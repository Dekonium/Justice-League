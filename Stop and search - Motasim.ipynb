{
 "cells": [
  {
   "cell_type": "code",
   "execution_count": 1,
   "id": "6cf0e598",
   "metadata": {},
   "outputs": [],
   "source": [
    "%matplotlib inline\n",
    "import matplotlib.pyplot as plt\n",
    "import pandas as pd\n",
    "import numpy as np\n",
    "import requests\n",
    "import time\n",
    "import scipy.stats as st\n",
    "import csv\n",
    "import json\n",
    "from datetime import datetime\n",
    "#importing libraries"
   ]
  },
  {
   "cell_type": "code",
   "execution_count": 38,
   "id": "b8964464",
   "metadata": {},
   "outputs": [],
   "source": [
    "#January 2020 Data"
   ]
  },
  {
   "cell_type": "code",
   "execution_count": 39,
   "id": "15896663",
   "metadata": {},
   "outputs": [
    {
     "data": {
      "text/html": [
       "<div>\n",
       "<style scoped>\n",
       "    .dataframe tbody tr th:only-of-type {\n",
       "        vertical-align: middle;\n",
       "    }\n",
       "\n",
       "    .dataframe tbody tr th {\n",
       "        vertical-align: top;\n",
       "    }\n",
       "\n",
       "    .dataframe thead th {\n",
       "        text-align: right;\n",
       "    }\n",
       "</style>\n",
       "<table border=\"1\" class=\"dataframe\">\n",
       "  <thead>\n",
       "    <tr style=\"text-align: right;\">\n",
       "      <th></th>\n",
       "      <th>Type</th>\n",
       "      <th>Date</th>\n",
       "      <th>Part of a policing operation</th>\n",
       "      <th>Policing operation</th>\n",
       "      <th>Latitude</th>\n",
       "      <th>Longitude</th>\n",
       "      <th>Gender</th>\n",
       "      <th>Age range</th>\n",
       "      <th>Self-defined ethnicity</th>\n",
       "      <th>Officer-defined ethnicity</th>\n",
       "      <th>Legislation</th>\n",
       "      <th>Object of search</th>\n",
       "      <th>Outcome</th>\n",
       "      <th>Outcome linked to object of search</th>\n",
       "      <th>Removal of more than just outer clothing</th>\n",
       "    </tr>\n",
       "  </thead>\n",
       "  <tbody>\n",
       "    <tr>\n",
       "      <th>0</th>\n",
       "      <td>Person search</td>\n",
       "      <td>2020-01-01T02:58:00+00:00</td>\n",
       "      <td>NaN</td>\n",
       "      <td>NaN</td>\n",
       "      <td>52.477214</td>\n",
       "      <td>-1.911043</td>\n",
       "      <td>NaN</td>\n",
       "      <td>18-24</td>\n",
       "      <td>Other ethnic group - Not stated</td>\n",
       "      <td>NaN</td>\n",
       "      <td>Police and Criminal Evidence Act 1984 (section 1)</td>\n",
       "      <td>Offensive weapons</td>\n",
       "      <td>A no further action disposal</td>\n",
       "      <td>NaN</td>\n",
       "      <td>False</td>\n",
       "    </tr>\n",
       "    <tr>\n",
       "      <th>1</th>\n",
       "      <td>Person search</td>\n",
       "      <td>2020-01-01T03:16:00+00:00</td>\n",
       "      <td>NaN</td>\n",
       "      <td>NaN</td>\n",
       "      <td>52.477214</td>\n",
       "      <td>-1.911043</td>\n",
       "      <td>NaN</td>\n",
       "      <td>18-24</td>\n",
       "      <td>Black/African/Caribbean/Black British - Caribbean</td>\n",
       "      <td>NaN</td>\n",
       "      <td>Police and Criminal Evidence Act 1984 (section 1)</td>\n",
       "      <td>Offensive weapons</td>\n",
       "      <td>A no further action disposal</td>\n",
       "      <td>NaN</td>\n",
       "      <td>False</td>\n",
       "    </tr>\n",
       "    <tr>\n",
       "      <th>2</th>\n",
       "      <td>Person search</td>\n",
       "      <td>2020-01-01T03:26:00+00:00</td>\n",
       "      <td>NaN</td>\n",
       "      <td>NaN</td>\n",
       "      <td>52.543890</td>\n",
       "      <td>-1.878513</td>\n",
       "      <td>NaN</td>\n",
       "      <td>NaN</td>\n",
       "      <td>Black/African/Caribbean/Black British - Any ot...</td>\n",
       "      <td>NaN</td>\n",
       "      <td>Firearms Act 1968 (section 47)</td>\n",
       "      <td>Firearms</td>\n",
       "      <td>Arrest</td>\n",
       "      <td>False</td>\n",
       "      <td>False</td>\n",
       "    </tr>\n",
       "    <tr>\n",
       "      <th>3</th>\n",
       "      <td>Person search</td>\n",
       "      <td>2020-01-01T03:26:00+00:00</td>\n",
       "      <td>NaN</td>\n",
       "      <td>NaN</td>\n",
       "      <td>52.543890</td>\n",
       "      <td>-1.878513</td>\n",
       "      <td>NaN</td>\n",
       "      <td>NaN</td>\n",
       "      <td>White - English/Welsh/Scottish/Northern Irish/...</td>\n",
       "      <td>NaN</td>\n",
       "      <td>Firearms Act 1968 (section 47)</td>\n",
       "      <td>Firearms</td>\n",
       "      <td>A no further action disposal</td>\n",
       "      <td>NaN</td>\n",
       "      <td>False</td>\n",
       "    </tr>\n",
       "    <tr>\n",
       "      <th>4</th>\n",
       "      <td>Person search</td>\n",
       "      <td>2020-01-01T03:26:00+00:00</td>\n",
       "      <td>NaN</td>\n",
       "      <td>NaN</td>\n",
       "      <td>52.543890</td>\n",
       "      <td>-1.878513</td>\n",
       "      <td>NaN</td>\n",
       "      <td>NaN</td>\n",
       "      <td>White - English/Welsh/Scottish/Northern Irish/...</td>\n",
       "      <td>NaN</td>\n",
       "      <td>Firearms Act 1968 (section 47)</td>\n",
       "      <td>Firearms</td>\n",
       "      <td>A no further action disposal</td>\n",
       "      <td>NaN</td>\n",
       "      <td>False</td>\n",
       "    </tr>\n",
       "  </tbody>\n",
       "</table>\n",
       "</div>"
      ],
      "text/plain": [
       "            Type                       Date  Part of a policing operation  \\\n",
       "0  Person search  2020-01-01T02:58:00+00:00                           NaN   \n",
       "1  Person search  2020-01-01T03:16:00+00:00                           NaN   \n",
       "2  Person search  2020-01-01T03:26:00+00:00                           NaN   \n",
       "3  Person search  2020-01-01T03:26:00+00:00                           NaN   \n",
       "4  Person search  2020-01-01T03:26:00+00:00                           NaN   \n",
       "\n",
       "   Policing operation   Latitude  Longitude  Gender Age range  \\\n",
       "0                 NaN  52.477214  -1.911043     NaN     18-24   \n",
       "1                 NaN  52.477214  -1.911043     NaN     18-24   \n",
       "2                 NaN  52.543890  -1.878513     NaN       NaN   \n",
       "3                 NaN  52.543890  -1.878513     NaN       NaN   \n",
       "4                 NaN  52.543890  -1.878513     NaN       NaN   \n",
       "\n",
       "                              Self-defined ethnicity  \\\n",
       "0                    Other ethnic group - Not stated   \n",
       "1  Black/African/Caribbean/Black British - Caribbean   \n",
       "2  Black/African/Caribbean/Black British - Any ot...   \n",
       "3  White - English/Welsh/Scottish/Northern Irish/...   \n",
       "4  White - English/Welsh/Scottish/Northern Irish/...   \n",
       "\n",
       "  Officer-defined ethnicity  \\\n",
       "0                       NaN   \n",
       "1                       NaN   \n",
       "2                       NaN   \n",
       "3                       NaN   \n",
       "4                       NaN   \n",
       "\n",
       "                                         Legislation   Object of search  \\\n",
       "0  Police and Criminal Evidence Act 1984 (section 1)  Offensive weapons   \n",
       "1  Police and Criminal Evidence Act 1984 (section 1)  Offensive weapons   \n",
       "2                     Firearms Act 1968 (section 47)           Firearms   \n",
       "3                     Firearms Act 1968 (section 47)           Firearms   \n",
       "4                     Firearms Act 1968 (section 47)           Firearms   \n",
       "\n",
       "                        Outcome Outcome linked to object of search  \\\n",
       "0  A no further action disposal                                NaN   \n",
       "1  A no further action disposal                                NaN   \n",
       "2                        Arrest                              False   \n",
       "3  A no further action disposal                                NaN   \n",
       "4  A no further action disposal                                NaN   \n",
       "\n",
       "  Removal of more than just outer clothing  \n",
       "0                                    False  \n",
       "1                                    False  \n",
       "2                                    False  \n",
       "3                                    False  \n",
       "4                                    False  "
      ]
     },
     "execution_count": 39,
     "metadata": {},
     "output_type": "execute_result"
    }
   ],
   "source": [
    "#Import Stop and Search Data\n",
    "df = pd.read_csv(\"2020-01-west-midlands-stop-and-search.csv\")\n",
    "df.head()"
   ]
  },
  {
   "cell_type": "code",
   "execution_count": null,
   "id": "57ec9286",
   "metadata": {},
   "outputs": [],
   "source": []
  },
  {
   "cell_type": "code",
   "execution_count": 3,
   "id": "5503a73c",
   "metadata": {
    "scrolled": true
   },
   "outputs": [
    {
     "data": {
      "text/plain": [
       "0       2020-01-01T02:58:00+00:00\n",
       "1       2020-01-01T03:16:00+00:00\n",
       "2       2020-01-01T03:26:00+00:00\n",
       "3       2020-01-01T03:26:00+00:00\n",
       "4       2020-01-01T03:26:00+00:00\n",
       "                  ...            \n",
       "2379    2020-01-31T21:37:00+00:00\n",
       "2380    2020-01-31T21:59:00+00:00\n",
       "2381    2020-01-31T22:00:00+00:00\n",
       "2382    2020-01-31T22:01:00+00:00\n",
       "2383    2020-01-31T22:09:00+00:00\n",
       "Name: Date, Length: 2384, dtype: object"
      ]
     },
     "execution_count": 3,
     "metadata": {},
     "output_type": "execute_result"
    }
   ],
   "source": [
    "df.Date"
   ]
  },
  {
   "cell_type": "code",
   "execution_count": 4,
   "id": "bb8e5c27",
   "metadata": {},
   "outputs": [
    {
     "data": {
      "text/plain": [
       "0       A no further action disposal\n",
       "1       A no further action disposal\n",
       "2                             Arrest\n",
       "3       A no further action disposal\n",
       "4       A no further action disposal\n",
       "                    ...             \n",
       "2379    A no further action disposal\n",
       "2380    A no further action disposal\n",
       "2381    A no further action disposal\n",
       "2382    A no further action disposal\n",
       "2383    A no further action disposal\n",
       "Name: Outcome, Length: 2384, dtype: object"
      ]
     },
     "execution_count": 4,
     "metadata": {},
     "output_type": "execute_result"
    }
   ],
   "source": [
    "df.Outcome"
   ]
  },
  {
   "cell_type": "code",
   "execution_count": 21,
   "id": "2ef576bb",
   "metadata": {},
   "outputs": [
    {
     "data": {
      "text/plain": [
       "2020-12-15T02:10:00+00:00    5\n",
       "2020-12-16T04:00:00+00:00    5\n",
       "2020-12-20T16:11:00+00:00    5\n",
       "2020-12-13T16:25:00+00:00    5\n",
       "2020-12-05T05:06:00+00:00    5\n",
       "                            ..\n",
       "2020-12-10T13:01:00+00:00    1\n",
       "2020-12-10T12:43:00+00:00    1\n",
       "2020-12-10T11:41:00+00:00    1\n",
       "2020-12-10T11:30:00+00:00    1\n",
       "2020-12-31T23:58:00+00:00    1\n",
       "Name: Date, Length: 1716, dtype: int64"
      ]
     },
     "execution_count": 21,
     "metadata": {},
     "output_type": "execute_result"
    }
   ],
   "source": [
    "search  = df[\"Date\"].value_counts()\n",
    "search"
   ]
  },
  {
   "cell_type": "code",
   "execution_count": 22,
   "id": "6b0bf8dd",
   "metadata": {},
   "outputs": [
    {
     "data": {
      "text/plain": [
       "A no further action disposal       1427\n",
       "Arrest                              287\n",
       "Community resolution                107\n",
       "Khat or Cannabis warning             41\n",
       "Penalty Notice for Disorder          14\n",
       "Summons / charged by post             6\n",
       "Caution (simple or conditional)       4\n",
       "Name: Outcome, dtype: int64"
      ]
     },
     "execution_count": 22,
     "metadata": {},
     "output_type": "execute_result"
    }
   ],
   "source": [
    "search  = df[\"Outcome\"].value_counts()\n",
    "search"
   ]
  },
  {
   "cell_type": "code",
   "execution_count": 23,
   "id": "502df86e",
   "metadata": {},
   "outputs": [
    {
     "data": {
      "text/plain": [
       "<pandas.plotting._core.PlotAccessor object at 0x000001DC89FB75E0>"
      ]
     },
     "execution_count": 23,
     "metadata": {},
     "output_type": "execute_result"
    },
    {
     "data": {
      "image/png": "[encoded data removed]",
      "text/plain": [
       "<Figure size 1800x720 with 1 Axes>"
      ]
     },
     "metadata": {},
     "output_type": "display_data"
    }
   ],
   "source": [
    "search.plot(kind='pie', figsize=(25,10), y= \"Date\", \n",
    "                         title = \"Jan 2020 West Midlands Stop and search\",\n",
    "                         subplots=True, startangle=0, autopct=\"%1.1f%%\")\n",
    "search.plot"
   ]
  },
  {
   "cell_type": "code",
   "execution_count": 24,
   "id": "41d22c45",
   "metadata": {},
   "outputs": [
    {
     "data": {
      "image/png": "[encoded data removed]",
      "text/plain": [
       "<Figure size 720x360 with 1 Axes>"
      ]
     },
     "metadata": {
      "needs_background": "light"
     },
     "output_type": "display_data"
    }
   ],
   "source": [
    "plot_outcome = search.plot.bar(figsize=(10,5) , color = 'pink')\n",
    "plt.xlabel(\"Outcome\")\n",
    "plt.ylabel(\"Amount of times\")\n",
    "plt.title(\"Jan 2020 West Midlands Stop and search\")\n",
    "plt.show()"
   ]
  },
  {
   "cell_type": "code",
   "execution_count": 40,
   "id": "b82ba440",
   "metadata": {
    "scrolled": true
   },
   "outputs": [
    {
     "data": {
      "text/html": [
       "<div>\n",
       "<style scoped>\n",
       "    .dataframe tbody tr th:only-of-type {\n",
       "        vertical-align: middle;\n",
       "    }\n",
       "\n",
       "    .dataframe tbody tr th {\n",
       "        vertical-align: top;\n",
       "    }\n",
       "\n",
       "    .dataframe thead th {\n",
       "        text-align: right;\n",
       "    }\n",
       "</style>\n",
       "<table border=\"1\" class=\"dataframe\">\n",
       "  <thead>\n",
       "    <tr style=\"text-align: right;\">\n",
       "      <th></th>\n",
       "      <th>Crime ID</th>\n",
       "      <th>Month</th>\n",
       "      <th>Reported by</th>\n",
       "      <th>Falls within</th>\n",
       "      <th>Longitude</th>\n",
       "      <th>Latitude</th>\n",
       "      <th>Location</th>\n",
       "      <th>LSOA code</th>\n",
       "      <th>LSOA name</th>\n",
       "      <th>Crime type</th>\n",
       "      <th>Last outcome category</th>\n",
       "      <th>Context</th>\n",
       "    </tr>\n",
       "  </thead>\n",
       "  <tbody>\n",
       "    <tr>\n",
       "      <th>0</th>\n",
       "      <td>NaN</td>\n",
       "      <td>2020-01</td>\n",
       "      <td>West Midlands Police</td>\n",
       "      <td>West Midlands Police</td>\n",
       "      <td>-1.841944</td>\n",
       "      <td>52.597265</td>\n",
       "      <td>On or near Chelsea Drive</td>\n",
       "      <td>E01009418</td>\n",
       "      <td>Birmingham 001B</td>\n",
       "      <td>Anti-social behaviour</td>\n",
       "      <td>NaN</td>\n",
       "      <td>NaN</td>\n",
       "    </tr>\n",
       "    <tr>\n",
       "      <th>1</th>\n",
       "      <td>1b1d402a12d6d89a66b7b5b453300bf201cf43f79ff2d7...</td>\n",
       "      <td>2020-01</td>\n",
       "      <td>West Midlands Police</td>\n",
       "      <td>West Midlands Police</td>\n",
       "      <td>-1.839063</td>\n",
       "      <td>52.597809</td>\n",
       "      <td>On or near Byron Court</td>\n",
       "      <td>E01009418</td>\n",
       "      <td>Birmingham 001B</td>\n",
       "      <td>Criminal damage and arson</td>\n",
       "      <td>Investigation complete; no suspect identified</td>\n",
       "      <td>NaN</td>\n",
       "    </tr>\n",
       "    <tr>\n",
       "      <th>2</th>\n",
       "      <td>7e65a6f780e3e6dbb93d4e161ca9a5a6ef2498dd8168e5...</td>\n",
       "      <td>2020-01</td>\n",
       "      <td>West Midlands Police</td>\n",
       "      <td>West Midlands Police</td>\n",
       "      <td>-1.843740</td>\n",
       "      <td>52.594588</td>\n",
       "      <td>On or near Clarence Road</td>\n",
       "      <td>E01009418</td>\n",
       "      <td>Birmingham 001B</td>\n",
       "      <td>Other theft</td>\n",
       "      <td>Investigation complete; no suspect identified</td>\n",
       "      <td>NaN</td>\n",
       "    </tr>\n",
       "    <tr>\n",
       "      <th>3</th>\n",
       "      <td>376e737edfa06c918d07bcac79c4b3395dd33e169663a9...</td>\n",
       "      <td>2020-01</td>\n",
       "      <td>West Midlands Police</td>\n",
       "      <td>West Midlands Police</td>\n",
       "      <td>-1.840641</td>\n",
       "      <td>52.598270</td>\n",
       "      <td>On or near Badgers Bank Road</td>\n",
       "      <td>E01009418</td>\n",
       "      <td>Birmingham 001B</td>\n",
       "      <td>Public order</td>\n",
       "      <td>Unable to prosecute suspect</td>\n",
       "      <td>NaN</td>\n",
       "    </tr>\n",
       "    <tr>\n",
       "      <th>4</th>\n",
       "      <td>63ac41d45bbf2402bd1a8c1202ffd7554cae4de84d59b1...</td>\n",
       "      <td>2020-01</td>\n",
       "      <td>West Midlands Police</td>\n",
       "      <td>West Midlands Police</td>\n",
       "      <td>-1.841944</td>\n",
       "      <td>52.597265</td>\n",
       "      <td>On or near Chelsea Drive</td>\n",
       "      <td>E01009418</td>\n",
       "      <td>Birmingham 001B</td>\n",
       "      <td>Public order</td>\n",
       "      <td>Unable to prosecute suspect</td>\n",
       "      <td>NaN</td>\n",
       "    </tr>\n",
       "  </tbody>\n",
       "</table>\n",
       "</div>"
      ],
      "text/plain": [
       "                                            Crime ID    Month  \\\n",
       "0                                                NaN  2020-01   \n",
       "1  1b1d402a12d6d89a66b7b5b453300bf201cf43f79ff2d7...  2020-01   \n",
       "2  7e65a6f780e3e6dbb93d4e161ca9a5a6ef2498dd8168e5...  2020-01   \n",
       "3  376e737edfa06c918d07bcac79c4b3395dd33e169663a9...  2020-01   \n",
       "4  63ac41d45bbf2402bd1a8c1202ffd7554cae4de84d59b1...  2020-01   \n",
       "\n",
       "            Reported by          Falls within  Longitude   Latitude  \\\n",
       "0  West Midlands Police  West Midlands Police  -1.841944  52.597265   \n",
       "1  West Midlands Police  West Midlands Police  -1.839063  52.597809   \n",
       "2  West Midlands Police  West Midlands Police  -1.843740  52.594588   \n",
       "3  West Midlands Police  West Midlands Police  -1.840641  52.598270   \n",
       "4  West Midlands Police  West Midlands Police  -1.841944  52.597265   \n",
       "\n",
       "                       Location  LSOA code        LSOA name  \\\n",
       "0      On or near Chelsea Drive  E01009418  Birmingham 001B   \n",
       "1        On or near Byron Court  E01009418  Birmingham 001B   \n",
       "2      On or near Clarence Road  E01009418  Birmingham 001B   \n",
       "3  On or near Badgers Bank Road  E01009418  Birmingham 001B   \n",
       "4      On or near Chelsea Drive  E01009418  Birmingham 001B   \n",
       "\n",
       "                  Crime type                          Last outcome category  \\\n",
       "0      Anti-social behaviour                                            NaN   \n",
       "1  Criminal damage and arson  Investigation complete; no suspect identified   \n",
       "2                Other theft  Investigation complete; no suspect identified   \n",
       "3               Public order                    Unable to prosecute suspect   \n",
       "4               Public order                    Unable to prosecute suspect   \n",
       "\n",
       "   Context  \n",
       "0      NaN  \n",
       "1      NaN  \n",
       "2      NaN  \n",
       "3      NaN  \n",
       "4      NaN  "
      ]
     },
     "execution_count": 40,
     "metadata": {},
     "output_type": "execute_result"
    }
   ],
   "source": [
    "cr = pd.read_csv(\"2020-01-west-midlands-street.csv\")\n",
    "cr.head()"
   ]
  },
  {
   "cell_type": "code",
   "execution_count": 41,
   "id": "d2dd3c91",
   "metadata": {},
   "outputs": [
    {
     "data": {
      "text/plain": [
       "Violence and sexual offences    9131\n",
       "Vehicle crime                   3014\n",
       "Burglary                        2328\n",
       "Anti-social behaviour           2272\n",
       "Criminal damage and arson       2160\n",
       "Other theft                     1611\n",
       "Public order                    1493\n",
       "Shoplifting                     1297\n",
       "Robbery                          698\n",
       "Drugs                            526\n",
       "Other crime                      457\n",
       "Theft from the person            256\n",
       "Possession of weapons            249\n",
       "Bicycle theft                    151\n",
       "Name: Crime type, dtype: int64"
      ]
     },
     "execution_count": 41,
     "metadata": {},
     "output_type": "execute_result"
    }
   ],
   "source": [
    "search  = cr[\"Crime type\"].value_counts()\n",
    "search"
   ]
  },
  {
   "cell_type": "code",
   "execution_count": 44,
   "id": "3d0e41c6",
   "metadata": {},
   "outputs": [
    {
     "data": {
      "image/png": "[encoded data removed]",
      "text/plain": [
       "<Figure size 720x360 with 1 Axes>"
      ]
     },
     "metadata": {
      "needs_background": "light"
     },
     "output_type": "display_data"
    }
   ],
   "source": [
    "plot_outcome = search.plot.bar(figsize=(10,5) , color = 'blue')\n",
    "plt.xlabel(\"Crime Type\")\n",
    "plt.ylabel(\"Amount of times\")\n",
    "plt.title(\"Jan 2020 West Midlands Crimes\")\n",
    "plt.show()"
   ]
  },
  {
   "cell_type": "code",
   "execution_count": 25,
   "id": "b7af3ced",
   "metadata": {
    "scrolled": true
   },
   "outputs": [
    {
     "data": {
      "text/html": [
       "<div>\n",
       "<style scoped>\n",
       "    .dataframe tbody tr th:only-of-type {\n",
       "        vertical-align: middle;\n",
       "    }\n",
       "\n",
       "    .dataframe tbody tr th {\n",
       "        vertical-align: top;\n",
       "    }\n",
       "\n",
       "    .dataframe thead th {\n",
       "        text-align: right;\n",
       "    }\n",
       "</style>\n",
       "<table border=\"1\" class=\"dataframe\">\n",
       "  <thead>\n",
       "    <tr style=\"text-align: right;\">\n",
       "      <th></th>\n",
       "      <th>Type</th>\n",
       "      <th>Date</th>\n",
       "      <th>Part of a policing operation</th>\n",
       "      <th>Policing operation</th>\n",
       "      <th>Latitude</th>\n",
       "      <th>Longitude</th>\n",
       "      <th>Gender</th>\n",
       "      <th>Age range</th>\n",
       "      <th>Self-defined ethnicity</th>\n",
       "      <th>Officer-defined ethnicity</th>\n",
       "      <th>Legislation</th>\n",
       "      <th>Object of search</th>\n",
       "      <th>Outcome</th>\n",
       "      <th>Outcome linked to object of search</th>\n",
       "      <th>Removal of more than just outer clothing</th>\n",
       "    </tr>\n",
       "  </thead>\n",
       "  <tbody>\n",
       "    <tr>\n",
       "      <th>0</th>\n",
       "      <td>Person and Vehicle search</td>\n",
       "      <td>2020-05-31T23:42:00+00:00</td>\n",
       "      <td>NaN</td>\n",
       "      <td>NaN</td>\n",
       "      <td>52.410036</td>\n",
       "      <td>-1.502715</td>\n",
       "      <td>NaN</td>\n",
       "      <td>18-24</td>\n",
       "      <td>Mixed/Multiple ethnic groups - White and Black...</td>\n",
       "      <td>NaN</td>\n",
       "      <td>Misuse of Drugs Act 1971 (section 23)</td>\n",
       "      <td>Controlled drugs</td>\n",
       "      <td>A no further action disposal</td>\n",
       "      <td>NaN</td>\n",
       "      <td>False</td>\n",
       "    </tr>\n",
       "    <tr>\n",
       "      <th>1</th>\n",
       "      <td>Person and Vehicle search</td>\n",
       "      <td>2020-05-31T23:50:00+00:00</td>\n",
       "      <td>NaN</td>\n",
       "      <td>NaN</td>\n",
       "      <td>52.503550</td>\n",
       "      <td>-1.825603</td>\n",
       "      <td>NaN</td>\n",
       "      <td>18-24</td>\n",
       "      <td>Asian/Asian British - Pakistani</td>\n",
       "      <td>Asian</td>\n",
       "      <td>Police and Criminal Evidence Act 1984 (section 1)</td>\n",
       "      <td>Article for use in theft</td>\n",
       "      <td>Khat or Cannabis warning</td>\n",
       "      <td>False</td>\n",
       "      <td>False</td>\n",
       "    </tr>\n",
       "    <tr>\n",
       "      <th>2</th>\n",
       "      <td>Person search</td>\n",
       "      <td>2020-06-01T00:38:00+00:00</td>\n",
       "      <td>NaN</td>\n",
       "      <td>NaN</td>\n",
       "      <td>52.600130</td>\n",
       "      <td>-2.091274</td>\n",
       "      <td>NaN</td>\n",
       "      <td>over 34</td>\n",
       "      <td>White - English/Welsh/Scottish/Northern Irish/...</td>\n",
       "      <td>NaN</td>\n",
       "      <td>Police and Criminal Evidence Act 1984 (section 1)</td>\n",
       "      <td>Offensive weapons</td>\n",
       "      <td>A no further action disposal</td>\n",
       "      <td>NaN</td>\n",
       "      <td>False</td>\n",
       "    </tr>\n",
       "    <tr>\n",
       "      <th>3</th>\n",
       "      <td>Person search</td>\n",
       "      <td>2020-06-01T01:27:00+00:00</td>\n",
       "      <td>NaN</td>\n",
       "      <td>NaN</td>\n",
       "      <td>52.596918</td>\n",
       "      <td>-2.083768</td>\n",
       "      <td>NaN</td>\n",
       "      <td>25-34</td>\n",
       "      <td>Black/African/Caribbean/Black British - Caribbean</td>\n",
       "      <td>NaN</td>\n",
       "      <td>Misuse of Drugs Act 1971 (section 23)</td>\n",
       "      <td>Controlled drugs</td>\n",
       "      <td>A no further action disposal</td>\n",
       "      <td>NaN</td>\n",
       "      <td>False</td>\n",
       "    </tr>\n",
       "    <tr>\n",
       "      <th>4</th>\n",
       "      <td>Person search</td>\n",
       "      <td>2020-06-01T02:03:00+00:00</td>\n",
       "      <td>NaN</td>\n",
       "      <td>NaN</td>\n",
       "      <td>52.505209</td>\n",
       "      <td>-1.941070</td>\n",
       "      <td>NaN</td>\n",
       "      <td>25-34</td>\n",
       "      <td>White - Any other White background</td>\n",
       "      <td>NaN</td>\n",
       "      <td>Police and Criminal Evidence Act 1984 (section 1)</td>\n",
       "      <td>Offensive weapons</td>\n",
       "      <td>Arrest</td>\n",
       "      <td>NaN</td>\n",
       "      <td>False</td>\n",
       "    </tr>\n",
       "  </tbody>\n",
       "</table>\n",
       "</div>"
      ],
      "text/plain": [
       "                        Type                       Date  \\\n",
       "0  Person and Vehicle search  2020-05-31T23:42:00+00:00   \n",
       "1  Person and Vehicle search  2020-05-31T23:50:00+00:00   \n",
       "2              Person search  2020-06-01T00:38:00+00:00   \n",
       "3              Person search  2020-06-01T01:27:00+00:00   \n",
       "4              Person search  2020-06-01T02:03:00+00:00   \n",
       "\n",
       "   Part of a policing operation  Policing operation   Latitude  Longitude  \\\n",
       "0                           NaN                 NaN  52.410036  -1.502715   \n",
       "1                           NaN                 NaN  52.503550  -1.825603   \n",
       "2                           NaN                 NaN  52.600130  -2.091274   \n",
       "3                           NaN                 NaN  52.596918  -2.083768   \n",
       "4                           NaN                 NaN  52.505209  -1.941070   \n",
       "\n",
       "   Gender Age range                             Self-defined ethnicity  \\\n",
       "0     NaN     18-24  Mixed/Multiple ethnic groups - White and Black...   \n",
       "1     NaN     18-24                    Asian/Asian British - Pakistani   \n",
       "2     NaN   over 34  White - English/Welsh/Scottish/Northern Irish/...   \n",
       "3     NaN     25-34  Black/African/Caribbean/Black British - Caribbean   \n",
       "4     NaN     25-34                 White - Any other White background   \n",
       "\n",
       "  Officer-defined ethnicity  \\\n",
       "0                       NaN   \n",
       "1                     Asian   \n",
       "2                       NaN   \n",
       "3                       NaN   \n",
       "4                       NaN   \n",
       "\n",
       "                                         Legislation  \\\n",
       "0              Misuse of Drugs Act 1971 (section 23)   \n",
       "1  Police and Criminal Evidence Act 1984 (section 1)   \n",
       "2  Police and Criminal Evidence Act 1984 (section 1)   \n",
       "3              Misuse of Drugs Act 1971 (section 23)   \n",
       "4  Police and Criminal Evidence Act 1984 (section 1)   \n",
       "\n",
       "           Object of search                       Outcome  \\\n",
       "0          Controlled drugs  A no further action disposal   \n",
       "1  Article for use in theft      Khat or Cannabis warning   \n",
       "2         Offensive weapons  A no further action disposal   \n",
       "3          Controlled drugs  A no further action disposal   \n",
       "4         Offensive weapons                        Arrest   \n",
       "\n",
       "  Outcome linked to object of search Removal of more than just outer clothing  \n",
       "0                                NaN                                    False  \n",
       "1                              False                                    False  \n",
       "2                                NaN                                    False  \n",
       "3                                NaN                                    False  \n",
       "4                                NaN                                    False  "
      ]
     },
     "execution_count": 25,
     "metadata": {},
     "output_type": "execute_result"
    }
   ],
   "source": [
    "#Import June 2020 Stop and Search Data\n",
    "df_jn = pd.read_csv(\"2020-06-west-midlands-stop-and-search.csv\")\n",
    "df_jn.head()"
   ]
  },
  {
   "cell_type": "code",
   "execution_count": 26,
   "id": "03bf17ec",
   "metadata": {},
   "outputs": [
    {
     "data": {
      "text/plain": [
       "0       2020-05-31T23:42:00+00:00\n",
       "1       2020-05-31T23:50:00+00:00\n",
       "2       2020-06-01T00:38:00+00:00\n",
       "3       2020-06-01T01:27:00+00:00\n",
       "4       2020-06-01T02:03:00+00:00\n",
       "                  ...            \n",
       "2157    2020-06-30T21:28:00+00:00\n",
       "2158    2020-06-30T22:28:00+00:00\n",
       "2159    2020-06-30T22:33:00+00:00\n",
       "2160    2020-06-30T22:40:00+00:00\n",
       "2161    2020-06-30T22:46:00+00:00\n",
       "Name: Date, Length: 2162, dtype: object"
      ]
     },
     "execution_count": 26,
     "metadata": {},
     "output_type": "execute_result"
    }
   ],
   "source": [
    "df_jn.Date"
   ]
  },
  {
   "cell_type": "code",
   "execution_count": 27,
   "id": "dd88a357",
   "metadata": {},
   "outputs": [
    {
     "data": {
      "text/plain": [
       "0       A no further action disposal\n",
       "1           Khat or Cannabis warning\n",
       "2       A no further action disposal\n",
       "3       A no further action disposal\n",
       "4                             Arrest\n",
       "                    ...             \n",
       "2157                             NaN\n",
       "2158    A no further action disposal\n",
       "2159    A no further action disposal\n",
       "2160                          Arrest\n",
       "2161                          Arrest\n",
       "Name: Outcome, Length: 2162, dtype: object"
      ]
     },
     "execution_count": 27,
     "metadata": {},
     "output_type": "execute_result"
    }
   ],
   "source": [
    "df_jn.Outcome"
   ]
  },
  {
   "cell_type": "code",
   "execution_count": 28,
   "id": "27fd3755",
   "metadata": {},
   "outputs": [
    {
     "data": {
      "text/plain": [
       "A no further action disposal       1564\n",
       "Arrest                              289\n",
       "Khat or Cannabis warning             77\n",
       "Penalty Notice for Disorder          14\n",
       "Community resolution                 13\n",
       "Summons / charged by post            11\n",
       "Caution (simple or conditional)       5\n",
       "Name: Outcome, dtype: int64"
      ]
     },
     "execution_count": 28,
     "metadata": {},
     "output_type": "execute_result"
    }
   ],
   "source": [
    "search  = df_jn[\"Outcome\"].value_counts()\n",
    "search"
   ]
  },
  {
   "cell_type": "code",
   "execution_count": 31,
   "id": "4907dd83",
   "metadata": {},
   "outputs": [
    {
     "data": {
      "text/plain": [
       "<pandas.plotting._core.PlotAccessor object at 0x000001DC89B74D90>"
      ]
     },
     "execution_count": 31,
     "metadata": {},
     "output_type": "execute_result"
    },
    {
     "data": {
      "image/png": "[encoded data removed]",
      "text/plain": [
       "<Figure size 1800x720 with 1 Axes>"
      ]
     },
     "metadata": {},
     "output_type": "display_data"
    }
   ],
   "source": [
    "search.plot(kind='pie', figsize=(25,10), y= \"Outcome\", \n",
    "                         title = \"June 2020 West Midlands Stop and search\",\n",
    "                         subplots=True, startangle=0, autopct=\"%1.1f%%\")\n",
    "search.plot"
   ]
  },
  {
   "cell_type": "code",
   "execution_count": 14,
   "id": "cdfcb10a",
   "metadata": {},
   "outputs": [
    {
     "data": {
      "image/png": "[encoded data removed]",
      "text/plain": [
       "<Figure size 720x360 with 1 Axes>"
      ]
     },
     "metadata": {
      "needs_background": "light"
     },
     "output_type": "display_data"
    }
   ],
   "source": [
    "plot_outcome = search.plot.bar(figsize=(10,5) , color = 'pink')\n",
    "plt.xlabel(\"Outcome\")\n",
    "plt.ylabel(\"Amount of times\")\n",
    "plt.title(\"June 2020 West Midlands Stop and search\")\n",
    "plt.show()"
   ]
  },
  {
   "cell_type": "code",
   "execution_count": 45,
   "id": "f0a60e8b",
   "metadata": {},
   "outputs": [
    {
     "data": {
      "text/html": [
       "<div>\n",
       "<style scoped>\n",
       "    .dataframe tbody tr th:only-of-type {\n",
       "        vertical-align: middle;\n",
       "    }\n",
       "\n",
       "    .dataframe tbody tr th {\n",
       "        vertical-align: top;\n",
       "    }\n",
       "\n",
       "    .dataframe thead th {\n",
       "        text-align: right;\n",
       "    }\n",
       "</style>\n",
       "<table border=\"1\" class=\"dataframe\">\n",
       "  <thead>\n",
       "    <tr style=\"text-align: right;\">\n",
       "      <th></th>\n",
       "      <th>Crime ID</th>\n",
       "      <th>Month</th>\n",
       "      <th>Reported by</th>\n",
       "      <th>Falls within</th>\n",
       "      <th>Longitude</th>\n",
       "      <th>Latitude</th>\n",
       "      <th>Location</th>\n",
       "      <th>LSOA code</th>\n",
       "      <th>LSOA name</th>\n",
       "      <th>Crime type</th>\n",
       "      <th>Last outcome category</th>\n",
       "      <th>Context</th>\n",
       "    </tr>\n",
       "  </thead>\n",
       "  <tbody>\n",
       "    <tr>\n",
       "      <th>0</th>\n",
       "      <td>cc1ce8dc799f230143e78236fee355177c20635d510ed8...</td>\n",
       "      <td>2020-06</td>\n",
       "      <td>West Midlands Police</td>\n",
       "      <td>West Midlands Police</td>\n",
       "      <td>-0.194469</td>\n",
       "      <td>51.614932</td>\n",
       "      <td>On or near Cissbury Ring South</td>\n",
       "      <td>E01000278</td>\n",
       "      <td>Barnet 020B</td>\n",
       "      <td>Violence and sexual offences</td>\n",
       "      <td>Unable to prosecute suspect</td>\n",
       "      <td>NaN</td>\n",
       "    </tr>\n",
       "    <tr>\n",
       "      <th>1</th>\n",
       "      <td>26538827fc2e7536a2cade6b955d9a865f260b3f679e53...</td>\n",
       "      <td>2020-06</td>\n",
       "      <td>West Midlands Police</td>\n",
       "      <td>West Midlands Police</td>\n",
       "      <td>-0.199065</td>\n",
       "      <td>51.600273</td>\n",
       "      <td>On or near Priory Close</td>\n",
       "      <td>E01000204</td>\n",
       "      <td>Barnet 025C</td>\n",
       "      <td>Public order</td>\n",
       "      <td>Investigation complete; no suspect identified</td>\n",
       "      <td>NaN</td>\n",
       "    </tr>\n",
       "    <tr>\n",
       "      <th>2</th>\n",
       "      <td>2fada0049f31052e85718b00fded5f45cea638de1321af...</td>\n",
       "      <td>2020-06</td>\n",
       "      <td>West Midlands Police</td>\n",
       "      <td>West Midlands Police</td>\n",
       "      <td>-0.199065</td>\n",
       "      <td>51.600273</td>\n",
       "      <td>On or near Priory Close</td>\n",
       "      <td>E01000204</td>\n",
       "      <td>Barnet 025C</td>\n",
       "      <td>Public order</td>\n",
       "      <td>Investigation complete; no suspect identified</td>\n",
       "      <td>NaN</td>\n",
       "    </tr>\n",
       "    <tr>\n",
       "      <th>3</th>\n",
       "      <td>70ae020a49b7766efefead85c703443b54438384b18981...</td>\n",
       "      <td>2020-06</td>\n",
       "      <td>West Midlands Police</td>\n",
       "      <td>West Midlands Police</td>\n",
       "      <td>-0.199065</td>\n",
       "      <td>51.600273</td>\n",
       "      <td>On or near Priory Close</td>\n",
       "      <td>E01000204</td>\n",
       "      <td>Barnet 025C</td>\n",
       "      <td>Violence and sexual offences</td>\n",
       "      <td>Investigation complete; no suspect identified</td>\n",
       "      <td>NaN</td>\n",
       "    </tr>\n",
       "    <tr>\n",
       "      <th>4</th>\n",
       "      <td>646c5bb572b8e9666d14c9eb7e4645f17448343ac7a8e6...</td>\n",
       "      <td>2020-06</td>\n",
       "      <td>West Midlands Police</td>\n",
       "      <td>West Midlands Police</td>\n",
       "      <td>-0.197534</td>\n",
       "      <td>51.564532</td>\n",
       "      <td>On or near Madoc Close</td>\n",
       "      <td>E01000140</td>\n",
       "      <td>Barnet 041C</td>\n",
       "      <td>Other theft</td>\n",
       "      <td>Investigation complete; no suspect identified</td>\n",
       "      <td>NaN</td>\n",
       "    </tr>\n",
       "  </tbody>\n",
       "</table>\n",
       "</div>"
      ],
      "text/plain": [
       "                                            Crime ID    Month  \\\n",
       "0  cc1ce8dc799f230143e78236fee355177c20635d510ed8...  2020-06   \n",
       "1  26538827fc2e7536a2cade6b955d9a865f260b3f679e53...  2020-06   \n",
       "2  2fada0049f31052e85718b00fded5f45cea638de1321af...  2020-06   \n",
       "3  70ae020a49b7766efefead85c703443b54438384b18981...  2020-06   \n",
       "4  646c5bb572b8e9666d14c9eb7e4645f17448343ac7a8e6...  2020-06   \n",
       "\n",
       "            Reported by          Falls within  Longitude   Latitude  \\\n",
       "0  West Midlands Police  West Midlands Police  -0.194469  51.614932   \n",
       "1  West Midlands Police  West Midlands Police  -0.199065  51.600273   \n",
       "2  West Midlands Police  West Midlands Police  -0.199065  51.600273   \n",
       "3  West Midlands Police  West Midlands Police  -0.199065  51.600273   \n",
       "4  West Midlands Police  West Midlands Police  -0.197534  51.564532   \n",
       "\n",
       "                         Location  LSOA code    LSOA name  \\\n",
       "0  On or near Cissbury Ring South  E01000278  Barnet 020B   \n",
       "1         On or near Priory Close  E01000204  Barnet 025C   \n",
       "2         On or near Priory Close  E01000204  Barnet 025C   \n",
       "3         On or near Priory Close  E01000204  Barnet 025C   \n",
       "4          On or near Madoc Close  E01000140  Barnet 041C   \n",
       "\n",
       "                     Crime type  \\\n",
       "0  Violence and sexual offences   \n",
       "1                  Public order   \n",
       "2                  Public order   \n",
       "3  Violence and sexual offences   \n",
       "4                   Other theft   \n",
       "\n",
       "                           Last outcome category  Context  \n",
       "0                    Unable to prosecute suspect      NaN  \n",
       "1  Investigation complete; no suspect identified      NaN  \n",
       "2  Investigation complete; no suspect identified      NaN  \n",
       "3  Investigation complete; no suspect identified      NaN  \n",
       "4  Investigation complete; no suspect identified      NaN  "
      ]
     },
     "execution_count": 45,
     "metadata": {},
     "output_type": "execute_result"
    }
   ],
   "source": [
    "cr_jn = pd.read_csv(\"2020-06-west-midlands-street.csv\")\n",
    "cr_jn.head()"
   ]
  },
  {
   "cell_type": "code",
   "execution_count": 46,
   "id": "d451f7d2",
   "metadata": {},
   "outputs": [
    {
     "data": {
      "text/plain": [
       "Violence and sexual offences    10155\n",
       "Anti-social behaviour            4592\n",
       "Public order                     2168\n",
       "Criminal damage and arson        1885\n",
       "Vehicle crime                    1643\n",
       "Burglary                         1342\n",
       "Other theft                      1257\n",
       "Shoplifting                       681\n",
       "Robbery                           493\n",
       "Drugs                             449\n",
       "Other crime                       425\n",
       "Possession of weapons             213\n",
       "Bicycle theft                     177\n",
       "Theft from the person              86\n",
       "Name: Crime type, dtype: int64"
      ]
     },
     "execution_count": 46,
     "metadata": {},
     "output_type": "execute_result"
    }
   ],
   "source": [
    "search  = cr_jn[\"Crime type\"].value_counts()\n",
    "search"
   ]
  },
  {
   "cell_type": "code",
   "execution_count": 47,
   "id": "ca011de6",
   "metadata": {},
   "outputs": [
    {
     "data": {
      "image/png": "[encoded data removed]",
      "text/plain": [
       "<Figure size 720x360 with 1 Axes>"
      ]
     },
     "metadata": {
      "needs_background": "light"
     },
     "output_type": "display_data"
    }
   ],
   "source": [
    "plot_outcome = search.plot.bar(figsize=(10,5) , color = 'blue')\n",
    "plt.xlabel(\"Crime type\")\n",
    "plt.ylabel(\"Amount of times\")\n",
    "plt.title(\"June 2020 West Midlands Crime Count\")\n",
    "plt.show()"
   ]
  },
  {
   "cell_type": "code",
   "execution_count": 32,
   "id": "cc19f752",
   "metadata": {},
   "outputs": [
    {
     "data": {
      "text/html": [
       "<div>\n",
       "<style scoped>\n",
       "    .dataframe tbody tr th:only-of-type {\n",
       "        vertical-align: middle;\n",
       "    }\n",
       "\n",
       "    .dataframe tbody tr th {\n",
       "        vertical-align: top;\n",
       "    }\n",
       "\n",
       "    .dataframe thead th {\n",
       "        text-align: right;\n",
       "    }\n",
       "</style>\n",
       "<table border=\"1\" class=\"dataframe\">\n",
       "  <thead>\n",
       "    <tr style=\"text-align: right;\">\n",
       "      <th></th>\n",
       "      <th>Type</th>\n",
       "      <th>Date</th>\n",
       "      <th>Part of a policing operation</th>\n",
       "      <th>Policing operation</th>\n",
       "      <th>Latitude</th>\n",
       "      <th>Longitude</th>\n",
       "      <th>Gender</th>\n",
       "      <th>Age range</th>\n",
       "      <th>Self-defined ethnicity</th>\n",
       "      <th>Officer-defined ethnicity</th>\n",
       "      <th>Legislation</th>\n",
       "      <th>Object of search</th>\n",
       "      <th>Outcome</th>\n",
       "      <th>Outcome linked to object of search</th>\n",
       "      <th>Removal of more than just outer clothing</th>\n",
       "    </tr>\n",
       "  </thead>\n",
       "  <tbody>\n",
       "    <tr>\n",
       "      <th>0</th>\n",
       "      <td>Person search</td>\n",
       "      <td>2020-12-01T01:07:00+00:00</td>\n",
       "      <td>NaN</td>\n",
       "      <td>NaN</td>\n",
       "      <td>52.499769</td>\n",
       "      <td>-1.752097</td>\n",
       "      <td>NaN</td>\n",
       "      <td>over 34</td>\n",
       "      <td>White - English/Welsh/Scottish/Northern Irish/...</td>\n",
       "      <td>NaN</td>\n",
       "      <td>Police and Criminal Evidence Act 1984 (section 1)</td>\n",
       "      <td>Article for use in theft</td>\n",
       "      <td>A no further action disposal</td>\n",
       "      <td>NaN</td>\n",
       "      <td>False</td>\n",
       "    </tr>\n",
       "    <tr>\n",
       "      <th>1</th>\n",
       "      <td>Person search</td>\n",
       "      <td>2020-12-01T01:10:00+00:00</td>\n",
       "      <td>NaN</td>\n",
       "      <td>NaN</td>\n",
       "      <td>52.499299</td>\n",
       "      <td>-2.066421</td>\n",
       "      <td>NaN</td>\n",
       "      <td>over 34</td>\n",
       "      <td>White - English/Welsh/Scottish/Northern Irish/...</td>\n",
       "      <td>NaN</td>\n",
       "      <td>Police and Criminal Evidence Act 1984 (section 1)</td>\n",
       "      <td>Stolen goods</td>\n",
       "      <td>Arrest</td>\n",
       "      <td>NaN</td>\n",
       "      <td>False</td>\n",
       "    </tr>\n",
       "    <tr>\n",
       "      <th>2</th>\n",
       "      <td>Person search</td>\n",
       "      <td>2020-12-01T01:10:00+00:00</td>\n",
       "      <td>NaN</td>\n",
       "      <td>NaN</td>\n",
       "      <td>52.499299</td>\n",
       "      <td>-2.066421</td>\n",
       "      <td>NaN</td>\n",
       "      <td>over 34</td>\n",
       "      <td>White - English/Welsh/Scottish/Northern Irish/...</td>\n",
       "      <td>NaN</td>\n",
       "      <td>Police and Criminal Evidence Act 1984 (section 1)</td>\n",
       "      <td>Stolen goods</td>\n",
       "      <td>Arrest</td>\n",
       "      <td>NaN</td>\n",
       "      <td>False</td>\n",
       "    </tr>\n",
       "    <tr>\n",
       "      <th>3</th>\n",
       "      <td>Person search</td>\n",
       "      <td>2020-12-01T01:10:00+00:00</td>\n",
       "      <td>NaN</td>\n",
       "      <td>NaN</td>\n",
       "      <td>52.499299</td>\n",
       "      <td>-2.066421</td>\n",
       "      <td>NaN</td>\n",
       "      <td>over 34</td>\n",
       "      <td>White - English/Welsh/Scottish/Northern Irish/...</td>\n",
       "      <td>NaN</td>\n",
       "      <td>Police and Criminal Evidence Act 1984 (section 1)</td>\n",
       "      <td>Stolen goods</td>\n",
       "      <td>Arrest</td>\n",
       "      <td>NaN</td>\n",
       "      <td>False</td>\n",
       "    </tr>\n",
       "    <tr>\n",
       "      <th>4</th>\n",
       "      <td>Person search</td>\n",
       "      <td>2020-12-01T01:54:00+00:00</td>\n",
       "      <td>NaN</td>\n",
       "      <td>NaN</td>\n",
       "      <td>52.561599</td>\n",
       "      <td>-1.953327</td>\n",
       "      <td>NaN</td>\n",
       "      <td>over 34</td>\n",
       "      <td>White - English/Welsh/Scottish/Northern Irish/...</td>\n",
       "      <td>NaN</td>\n",
       "      <td>Police and Criminal Evidence Act 1984 (section 1)</td>\n",
       "      <td>Stolen goods</td>\n",
       "      <td>A no further action disposal</td>\n",
       "      <td>NaN</td>\n",
       "      <td>False</td>\n",
       "    </tr>\n",
       "  </tbody>\n",
       "</table>\n",
       "</div>"
      ],
      "text/plain": [
       "            Type                       Date  Part of a policing operation  \\\n",
       "0  Person search  2020-12-01T01:07:00+00:00                           NaN   \n",
       "1  Person search  2020-12-01T01:10:00+00:00                           NaN   \n",
       "2  Person search  2020-12-01T01:10:00+00:00                           NaN   \n",
       "3  Person search  2020-12-01T01:10:00+00:00                           NaN   \n",
       "4  Person search  2020-12-01T01:54:00+00:00                           NaN   \n",
       "\n",
       "   Policing operation   Latitude  Longitude  Gender Age range  \\\n",
       "0                 NaN  52.499769  -1.752097     NaN   over 34   \n",
       "1                 NaN  52.499299  -2.066421     NaN   over 34   \n",
       "2                 NaN  52.499299  -2.066421     NaN   over 34   \n",
       "3                 NaN  52.499299  -2.066421     NaN   over 34   \n",
       "4                 NaN  52.561599  -1.953327     NaN   over 34   \n",
       "\n",
       "                              Self-defined ethnicity  \\\n",
       "0  White - English/Welsh/Scottish/Northern Irish/...   \n",
       "1  White - English/Welsh/Scottish/Northern Irish/...   \n",
       "2  White - English/Welsh/Scottish/Northern Irish/...   \n",
       "3  White - English/Welsh/Scottish/Northern Irish/...   \n",
       "4  White - English/Welsh/Scottish/Northern Irish/...   \n",
       "\n",
       "  Officer-defined ethnicity  \\\n",
       "0                       NaN   \n",
       "1                       NaN   \n",
       "2                       NaN   \n",
       "3                       NaN   \n",
       "4                       NaN   \n",
       "\n",
       "                                         Legislation  \\\n",
       "0  Police and Criminal Evidence Act 1984 (section 1)   \n",
       "1  Police and Criminal Evidence Act 1984 (section 1)   \n",
       "2  Police and Criminal Evidence Act 1984 (section 1)   \n",
       "3  Police and Criminal Evidence Act 1984 (section 1)   \n",
       "4  Police and Criminal Evidence Act 1984 (section 1)   \n",
       "\n",
       "           Object of search                       Outcome  \\\n",
       "0  Article for use in theft  A no further action disposal   \n",
       "1              Stolen goods                        Arrest   \n",
       "2              Stolen goods                        Arrest   \n",
       "3              Stolen goods                        Arrest   \n",
       "4              Stolen goods  A no further action disposal   \n",
       "\n",
       "  Outcome linked to object of search Removal of more than just outer clothing  \n",
       "0                                NaN                                    False  \n",
       "1                                NaN                                    False  \n",
       "2                                NaN                                    False  \n",
       "3                                NaN                                    False  \n",
       "4                                NaN                                    False  "
      ]
     },
     "execution_count": 32,
     "metadata": {},
     "output_type": "execute_result"
    }
   ],
   "source": [
    "#Import December 2020 Stop and Search Data\n",
    "df_dc = pd.read_csv(\"2020-12-west-midlands-stop-and-search.csv\")\n",
    "df_dc.head()"
   ]
  },
  {
   "cell_type": "code",
   "execution_count": null,
   "id": "93eea19b",
   "metadata": {},
   "outputs": [],
   "source": []
  },
  {
   "cell_type": "code",
   "execution_count": 33,
   "id": "29f8d51d",
   "metadata": {},
   "outputs": [
    {
     "data": {
      "text/plain": [
       "0       2020-12-01T01:07:00+00:00\n",
       "1       2020-12-01T01:10:00+00:00\n",
       "2       2020-12-01T01:10:00+00:00\n",
       "3       2020-12-01T01:10:00+00:00\n",
       "4       2020-12-01T01:54:00+00:00\n",
       "                  ...            \n",
       "2050    2020-12-31T20:39:00+00:00\n",
       "2051    2020-12-31T23:20:00+00:00\n",
       "2052    2020-12-31T23:44:00+00:00\n",
       "2053    2020-12-31T23:45:00+00:00\n",
       "2054    2020-12-31T23:58:00+00:00\n",
       "Name: Date, Length: 2055, dtype: object"
      ]
     },
     "execution_count": 33,
     "metadata": {},
     "output_type": "execute_result"
    }
   ],
   "source": [
    "df_dc.Date"
   ]
  },
  {
   "cell_type": "code",
   "execution_count": 34,
   "id": "a9801d71",
   "metadata": {},
   "outputs": [
    {
     "data": {
      "text/plain": [
       "0       A no further action disposal\n",
       "1                             Arrest\n",
       "2                             Arrest\n",
       "3                             Arrest\n",
       "4       A no further action disposal\n",
       "                    ...             \n",
       "2050    A no further action disposal\n",
       "2051            Community resolution\n",
       "2052    A no further action disposal\n",
       "2053    A no further action disposal\n",
       "2054    A no further action disposal\n",
       "Name: Outcome, Length: 2055, dtype: object"
      ]
     },
     "execution_count": 34,
     "metadata": {},
     "output_type": "execute_result"
    }
   ],
   "source": [
    "df_dc.Outcome"
   ]
  },
  {
   "cell_type": "code",
   "execution_count": 35,
   "id": "dffaab0b",
   "metadata": {},
   "outputs": [
    {
     "data": {
      "text/plain": [
       "A no further action disposal       1427\n",
       "Arrest                              287\n",
       "Community resolution                107\n",
       "Khat or Cannabis warning             41\n",
       "Penalty Notice for Disorder          14\n",
       "Summons / charged by post             6\n",
       "Caution (simple or conditional)       4\n",
       "Name: Outcome, dtype: int64"
      ]
     },
     "execution_count": 35,
     "metadata": {},
     "output_type": "execute_result"
    }
   ],
   "source": [
    "search  = df_dc[\"Outcome\"].value_counts()\n",
    "search"
   ]
  },
  {
   "cell_type": "code",
   "execution_count": 36,
   "id": "c0b83302",
   "metadata": {},
   "outputs": [
    {
     "data": {
      "text/plain": [
       "<pandas.plotting._core.PlotAccessor object at 0x000001DC8CCBC610>"
      ]
     },
     "execution_count": 36,
     "metadata": {},
     "output_type": "execute_result"
    },
    {
     "data": {
      "image/png": "[encoded data removed]",
      "text/plain": [
       "<Figure size 1800x720 with 1 Axes>"
      ]
     },
     "metadata": {},
     "output_type": "display_data"
    }
   ],
   "source": [
    "search.plot(kind='pie', figsize=(25,10), y= \"Outcome\", \n",
    "                         title = \"June 2020 West Midlands Stop and search\",\n",
    "                         subplots=True, startangle=0, autopct=\"%1.1f%%\")\n",
    "search.plot"
   ]
  },
  {
   "cell_type": "code",
   "execution_count": 37,
   "id": "7048553d",
   "metadata": {},
   "outputs": [
    {
     "data": {
      "image/png": "[encoded data removed]",
      "text/plain": [
       "<Figure size 720x360 with 1 Axes>"
      ]
     },
     "metadata": {
      "needs_background": "light"
     },
     "output_type": "display_data"
    }
   ],
   "source": [
    "plot_outcome = search.plot.bar(figsize=(10,5) , color = 'pink')\n",
    "plt.xlabel(\"Outcome\")\n",
    "plt.ylabel(\"Amount of times\")\n",
    "plt.title(\"Dec 2020 West Midlands Stop and search\")\n",
    "plt.show()"
   ]
  },
  {
   "cell_type": "code",
   "execution_count": 48,
   "id": "2500b756",
   "metadata": {},
   "outputs": [
    {
     "data": {
      "text/html": [
       "<div>\n",
       "<style scoped>\n",
       "    .dataframe tbody tr th:only-of-type {\n",
       "        vertical-align: middle;\n",
       "    }\n",
       "\n",
       "    .dataframe tbody tr th {\n",
       "        vertical-align: top;\n",
       "    }\n",
       "\n",
       "    .dataframe thead th {\n",
       "        text-align: right;\n",
       "    }\n",
       "</style>\n",
       "<table border=\"1\" class=\"dataframe\">\n",
       "  <thead>\n",
       "    <tr style=\"text-align: right;\">\n",
       "      <th></th>\n",
       "      <th>Crime ID</th>\n",
       "      <th>Month</th>\n",
       "      <th>Reported by</th>\n",
       "      <th>Falls within</th>\n",
       "      <th>Longitude</th>\n",
       "      <th>Latitude</th>\n",
       "      <th>Location</th>\n",
       "      <th>LSOA code</th>\n",
       "      <th>LSOA name</th>\n",
       "      <th>Crime type</th>\n",
       "      <th>Last outcome category</th>\n",
       "      <th>Context</th>\n",
       "    </tr>\n",
       "  </thead>\n",
       "  <tbody>\n",
       "    <tr>\n",
       "      <th>0</th>\n",
       "      <td>ad4296b931509ef34ab398ad6680b6cd5c834d3cdfbaeb...</td>\n",
       "      <td>2020-12</td>\n",
       "      <td>West Midlands Police</td>\n",
       "      <td>West Midlands Police</td>\n",
       "      <td>-0.198102</td>\n",
       "      <td>51.629708</td>\n",
       "      <td>On or near The Close</td>\n",
       "      <td>E01000279</td>\n",
       "      <td>Barnet 007C</td>\n",
       "      <td>Other theft</td>\n",
       "      <td>Unable to prosecute suspect</td>\n",
       "      <td>NaN</td>\n",
       "    </tr>\n",
       "    <tr>\n",
       "      <th>1</th>\n",
       "      <td>e066ddcb12f31b29bab832e86179a7e7c85312343d20cd...</td>\n",
       "      <td>2020-12</td>\n",
       "      <td>West Midlands Police</td>\n",
       "      <td>West Midlands Police</td>\n",
       "      <td>-0.198152</td>\n",
       "      <td>51.615663</td>\n",
       "      <td>On or near Offham Slope</td>\n",
       "      <td>E01000278</td>\n",
       "      <td>Barnet 020B</td>\n",
       "      <td>Robbery</td>\n",
       "      <td>Status update unavailable</td>\n",
       "      <td>NaN</td>\n",
       "    </tr>\n",
       "    <tr>\n",
       "      <th>2</th>\n",
       "      <td>ff90cc64ec30ae8850869480371729d6c890ff0f4ec0ef...</td>\n",
       "      <td>2020-12</td>\n",
       "      <td>West Midlands Police</td>\n",
       "      <td>West Midlands Police</td>\n",
       "      <td>-0.202670</td>\n",
       "      <td>51.570024</td>\n",
       "      <td>On or near Basing Hill</td>\n",
       "      <td>E01000135</td>\n",
       "      <td>Barnet 038A</td>\n",
       "      <td>Other theft</td>\n",
       "      <td>Status update unavailable</td>\n",
       "      <td>NaN</td>\n",
       "    </tr>\n",
       "    <tr>\n",
       "      <th>3</th>\n",
       "      <td>91081c649f21f2f0b293b637e093a529ea2d2fddd9dd0e...</td>\n",
       "      <td>2020-12</td>\n",
       "      <td>West Midlands Police</td>\n",
       "      <td>West Midlands Police</td>\n",
       "      <td>-0.202670</td>\n",
       "      <td>51.570024</td>\n",
       "      <td>On or near Basing Hill</td>\n",
       "      <td>E01000135</td>\n",
       "      <td>Barnet 038A</td>\n",
       "      <td>Other theft</td>\n",
       "      <td>Status update unavailable</td>\n",
       "      <td>NaN</td>\n",
       "    </tr>\n",
       "    <tr>\n",
       "      <th>4</th>\n",
       "      <td>cbc42e308e574637d340417a967bd4a357a0200b8be135...</td>\n",
       "      <td>2020-12</td>\n",
       "      <td>West Midlands Police</td>\n",
       "      <td>West Midlands Police</td>\n",
       "      <td>-1.850056</td>\n",
       "      <td>52.591108</td>\n",
       "      <td>On or near Walsall Road</td>\n",
       "      <td>E01009417</td>\n",
       "      <td>Birmingham 001A</td>\n",
       "      <td>Burglary</td>\n",
       "      <td>Status update unavailable</td>\n",
       "      <td>NaN</td>\n",
       "    </tr>\n",
       "  </tbody>\n",
       "</table>\n",
       "</div>"
      ],
      "text/plain": [
       "                                            Crime ID    Month  \\\n",
       "0  ad4296b931509ef34ab398ad6680b6cd5c834d3cdfbaeb...  2020-12   \n",
       "1  e066ddcb12f31b29bab832e86179a7e7c85312343d20cd...  2020-12   \n",
       "2  ff90cc64ec30ae8850869480371729d6c890ff0f4ec0ef...  2020-12   \n",
       "3  91081c649f21f2f0b293b637e093a529ea2d2fddd9dd0e...  2020-12   \n",
       "4  cbc42e308e574637d340417a967bd4a357a0200b8be135...  2020-12   \n",
       "\n",
       "            Reported by          Falls within  Longitude   Latitude  \\\n",
       "0  West Midlands Police  West Midlands Police  -0.198102  51.629708   \n",
       "1  West Midlands Police  West Midlands Police  -0.198152  51.615663   \n",
       "2  West Midlands Police  West Midlands Police  -0.202670  51.570024   \n",
       "3  West Midlands Police  West Midlands Police  -0.202670  51.570024   \n",
       "4  West Midlands Police  West Midlands Police  -1.850056  52.591108   \n",
       "\n",
       "                  Location  LSOA code        LSOA name   Crime type  \\\n",
       "0     On or near The Close  E01000279      Barnet 007C  Other theft   \n",
       "1  On or near Offham Slope  E01000278      Barnet 020B      Robbery   \n",
       "2   On or near Basing Hill  E01000135      Barnet 038A  Other theft   \n",
       "3   On or near Basing Hill  E01000135      Barnet 038A  Other theft   \n",
       "4  On or near Walsall Road  E01009417  Birmingham 001A     Burglary   \n",
       "\n",
       "         Last outcome category  Context  \n",
       "0  Unable to prosecute suspect      NaN  \n",
       "1    Status update unavailable      NaN  \n",
       "2    Status update unavailable      NaN  \n",
       "3    Status update unavailable      NaN  \n",
       "4    Status update unavailable      NaN  "
      ]
     },
     "execution_count": 48,
     "metadata": {},
     "output_type": "execute_result"
    }
   ],
   "source": [
    "cr_dc = pd.read_csv(\"2020-12-west-midlands-street.csv\")\n",
    "cr_dc.head()"
   ]
  },
  {
   "cell_type": "code",
   "execution_count": 49,
   "id": "feb3a250",
   "metadata": {},
   "outputs": [
    {
     "data": {
      "text/plain": [
       "Violence and sexual offences    12650\n",
       "Anti-social behaviour            3982\n",
       "Public order                     2385\n",
       "Vehicle crime                    2257\n",
       "Criminal damage and arson        2132\n",
       "Burglary                         1708\n",
       "Other theft                      1392\n",
       "Shoplifting                       982\n",
       "Robbery                           615\n",
       "Other crime                       578\n",
       "Drugs                             543\n",
       "Possession of weapons             362\n",
       "Theft from the person             217\n",
       "Bicycle theft                     147\n",
       "Name: Crime type, dtype: int64"
      ]
     },
     "execution_count": 49,
     "metadata": {},
     "output_type": "execute_result"
    }
   ],
   "source": [
    "search  = cr_dc[\"Crime type\"].value_counts()\n",
    "search"
   ]
  },
  {
   "cell_type": "code",
   "execution_count": 50,
   "id": "6b0043d6",
   "metadata": {},
   "outputs": [
    {
     "data": {
      "image/png": "[encoded data removed]",
      "text/plain": [
       "<Figure size 720x360 with 1 Axes>"
      ]
     },
     "metadata": {
      "needs_background": "light"
     },
     "output_type": "display_data"
    }
   ],
   "source": [
    "plot_outcome = search.plot.bar(figsize=(10,5) , color = 'blue')\n",
    "plt.xlabel(\"Crime type\")\n",
    "plt.ylabel(\"Amount of times\")\n",
    "plt.title(\"Dec 2020 West Midlands Crime Count\")\n",
    "plt.show()"
   ]
  },
  {
   "cell_type": "code",
   "execution_count": null,
   "id": "54c16e2c",
   "metadata": {},
   "outputs": [],
   "source": []
  }
 ],
 "metadata": {
  "kernelspec": {
   "display_name": "Python 3 (ipykernel)",
   "language": "python",
   "name": "python3"
  },
  "language_info": {
   "codemirror_mode": {
    "name": "ipython",
    "version": 3
   },
   "file_extension": ".py",
   "mimetype": "text/x-python",
   "name": "python",
   "nbconvert_exporter": "python",
   "pygments_lexer": "ipython3",
   "version": "3.9.12"
  }
 },
 "nbformat": 4,
 "nbformat_minor": 5
}
